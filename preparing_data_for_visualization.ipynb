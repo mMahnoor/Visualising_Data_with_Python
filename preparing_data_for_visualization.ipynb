{
 "cells": [
  {
   "cell_type": "code",
   "execution_count": 1,
   "id": "a8150875",
   "metadata": {},
   "outputs": [],
   "source": [
    "import fileinput"
   ]
  },
  {
   "cell_type": "code",
   "execution_count": 4,
   "id": "8d1d6424",
   "metadata": {},
   "outputs": [
    {
     "data": {
      "text/plain": [
       "<fileinput.FileInput at 0x7ff29b398f70>"
      ]
     },
     "execution_count": 4,
     "metadata": {},
     "output_type": "execute_result"
    }
   ],
   "source": [
    "fileinput.input(\"Enter your file: \")"
   ]
  },
  {
   "cell_type": "code",
   "execution_count": 3,
   "id": "a68e473e",
   "metadata": {},
   "outputs": [
    {
     "data": {
      "text/plain": [
       "<fileinput.FileInput at 0x7ff29b3983d0>"
      ]
     },
     "execution_count": 3,
     "metadata": {},
     "output_type": "execute_result"
    }
   ],
   "source": [
    "file"
   ]
  },
  {
   "cell_type": "code",
   "execution_count": null,
   "id": "ce6fc9da",
   "metadata": {},
   "outputs": [],
   "source": []
  }
 ],
 "metadata": {
  "kernelspec": {
   "display_name": "Python 3 (ipykernel)",
   "language": "python",
   "name": "python3"
  },
  "language_info": {
   "codemirror_mode": {
    "name": "ipython",
    "version": 3
   },
   "file_extension": ".py",
   "mimetype": "text/x-python",
   "name": "python",
   "nbconvert_exporter": "python",
   "pygments_lexer": "ipython3",
   "version": "3.9.12"
  }
 },
 "nbformat": 4,
 "nbformat_minor": 5
}
